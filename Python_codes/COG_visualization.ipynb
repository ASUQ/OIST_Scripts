{
 "cells": [
  {
   "cell_type": "markdown",
   "metadata": {},
   "source": [
    "## This script is for visualizing the COG content of prokaryote genomes"
   ]
  },
  {
   "cell_type": "markdown",
   "metadata": {},
   "source": [
    "### Required packages\n",
    "\n",
    "Please run this script in the environment (e.g. conda) which contain the packages below.\n",
    "\n",
    "- Numpy\n",
    "- Pandas\n",
    "- Matplotlib"
   ]
  },
  {
   "cell_type": "markdown",
   "metadata": {},
   "source": [
    "### Path Configuration\n",
    "\n",
    "**Please set the following variables to your local paths before running the script:**\n",
    "\n",
    "- `orthogroups`: Path to the OrthoFinder `Orthogroups.tsv` file\n",
    "- `orthosingle`: Path to the OrthoFinder `Orthogroups_SingleCopyOrthologues.tsv` file\n",
    "- `eggnog_dir`: Directory containing EggNOG annotation subfolders, one per sample\n",
    "- `output_dir`: Desired location for the final output files\n",
    "\n",
    "**Example usage:**\n",
    "```python\n",
    "orthogroups = '/path/to/Orthogroups/Orthogroups.tsv'\n",
    "orthosingle = '/path/to/Orthogroups/Orthogroups_SingleCopyOrthologues.tsv'\n",
    "eggnog_dir = '/path/to/eggnog/annotations'\n",
    "output_dir = '/path/to/output_directory'"
   ]
  },
  {
   "cell_type": "markdown",
   "metadata": {},
   "source": [
    "### Procedure\n",
    "#### Step1. Read OrthoFinder data\n",
    "Reads `Orthogroups.tsv` and `Orthogroups_SingleCopyOrthologues.tsv` and concatenate them\n",
    "\n",
    "#### Step2. Read EggNOG annotations\n",
    "Reads multiple files inside a directory (i.e., looping over `.annotations.tsv` files)\n",
    "\n",
    "#### Step3. Combine OrthoFinder data with EggNOG info\n",
    "Construct `orthogroups_eggnog_df`\n",
    "\n",
    "#### Step4. Extract COG information and determine consensus COGs\n",
    "\n",
    "#### Step5. Filter, sort and rearrange data\n",
    "Create binary dataframe `df_cog_binary`\n",
    "\n",
    "#### Step6. Visualize\n",
    "Generate a block plot for the presence/absence data"
   ]
  },
  {
   "cell_type": "markdown",
   "metadata": {},
   "source": [
    "### Output files\n",
    "\n",
    "- `COG_binary.csv`: \n",
    "- `COG_visualization.svg`: "
   ]
  },
  {
   "cell_type": "code",
   "execution_count": 1,
   "metadata": {},
   "outputs": [],
   "source": [
    "# Output file from OrthoFinder\n",
    "orthogroups = ''\n",
    "orthosingle = ''\n",
    "\n",
    "# Direcotory that contains all eggnog result of each sample\n",
    "eggnog_dir = ''\n",
    "\n",
    "# path to save the output files\n",
    "output_dir = ''\n",
    "\n",
    "# Sample order\n",
    "sample_order = ['B27', 'Pal2', 'Q6', 'S_platyhelix', 'S_citri', 'S_eriocheiris', 'S_apis', 'S_culicicola', 'S_glodiatoris', 'P_umbrosa_mycoplasma', 'Thalassoplasma', 'Oceanoplasma', 'Spiroplasma_holothuricola']"
   ]
  },
  {
   "cell_type": "markdown",
   "metadata": {},
   "source": [
    "---"
   ]
  },
  {
   "cell_type": "code",
   "execution_count": null,
   "metadata": {},
   "outputs": [],
   "source": [
    "## Library import\n",
    "import collections\n",
    "import glob\n",
    "import itertools\n",
    "import numpy as np\n",
    "import os\n",
    "import pandas as pd\n",
    "# import pprint\n",
    "import re\n",
    "import matplotlib.pyplot as plt\n",
    "import matplotlib.patches as patches\n",
    "# import tqdm"
   ]
  },
  {
   "cell_type": "markdown",
   "metadata": {},
   "source": [
    "#### Step1. Read OrthoFinder data\n",
    "Reads `Orthogroups.tsv` and `Orthogroups_SingleCopyOrthologues.tsv` and concatenate them"
   ]
  },
  {
   "cell_type": "code",
   "execution_count": null,
   "metadata": {},
   "outputs": [],
   "source": [
    "\"\"\"\n",
    "Reads and concatenates OrthoFinder data from the provided paths.\n",
    "Returns a combined DataFrame with orthogroup information.\n",
    "\n",
    "Args:\n",
    "\torthogroups (str): Absolute path of orthofinder Orthogroups.tsv\n",
    "\torthosingle (str): Absolute path of orthofinder Orthogroups_SingleCopyOrthologues.tsv\n",
    "\n",
    "Return:\n",
    "\tortho_df (DataFrame): Concatenated Dataframe\n",
    "\"\"\"\n",
    "\n",
    "orthogroups_df = pd.read_csv(orthogroups, sep='\\t', index_col='Orthogroup')\n",
    "orthosingle_df = pd.read_csv(orthosingle, sep='\\t', index_col='Orthogroup')\n",
    "ortho_df = pd.concat([orthogroups_df, orthosingle_df])"
   ]
  },
  {
   "cell_type": "markdown",
   "metadata": {},
   "source": [
    "#### Step2. Read EggNOG annotations\n",
    "Reads multiple files inside a directory (i.e., looping over `.annotations.tsv` files)"
   ]
  },
  {
   "cell_type": "code",
   "execution_count": null,
   "metadata": {},
   "outputs": [],
   "source": [
    "\"\"\"\n",
    "Reads all EggNOG annotations from eggnog_dir and stores them in a dictionary.\n",
    "Returns a dict {sample_name -> DataFrame}.\n",
    "\n",
    "Args:\n",
    "\teggnog_dir (str): Absolute path of directory which contain all EggNOG outputs\n",
    "\n",
    "Return:\n",
    "\tcoginfo_data (dict): {sample_name -> DataFrame}\n",
    "\"\"\"\n",
    "\n",
    "eggnog_output = glob.glob(f\"{eggnog_dir}/*/*.annotations.tsv\")\n",
    "coginfo_data = dict()\n",
    "\n",
    "for file in eggnog_output:\n",
    "\tsample_name = os.path.basename(os.path.dirname(file))\n",
    "\n",
    "\tdf = pd.read_csv(file, sep='\\t')\n",
    "\n",
    "\toutput_df = df[['query', 'COG_category', 'Description', 'Preferred_name']].copy()\n",
    "\toutput_df['GeneCode'] = df['query'].str.replace('LOCUS', sample_name)\n",
    "\toutput_df = output_df[['GeneCode', 'COG_category', 'Preferred_name', 'Description']].copy()\n",
    "\toutput_df = output_df.set_index('GeneCode')\n",
    "\tcoginfo_data[sample_name] = output_df"
   ]
  },
  {
   "cell_type": "markdown",
   "metadata": {},
   "source": [
    "#### Step3. Combine OrthoFinder data with EggNOG info\n",
    "Construct `orthogroups_eggnog_df`"
   ]
  },
  {
   "cell_type": "code",
   "execution_count": null,
   "metadata": {},
   "outputs": [],
   "source": [
    "# Create a dataframe to save the data\n",
    "samples = list(ortho_df.columns)\n",
    "topic = ['COG_consensus', 'COG', 'gene', '']\n",
    "new_header = []\n",
    "for head, suffix in itertools.product(samples, topic):\n",
    "\tif suffix == '':\n",
    "\t\tnew_header.append(head)\n",
    "\telse:\n",
    "\t\tnew_header.append(head + '_' + suffix)\n",
    "orthogroups_eggnog_df = pd.DataFrame(columns=new_header, dtype=str)\n",
    "orthogroups_eggnog_df.index.name = 'Orthogroup'\n",
    "orthogroups_eggnog_df.head()"
   ]
  },
  {
   "cell_type": "code",
   "execution_count": 5,
   "metadata": {},
   "outputs": [],
   "source": [
    "def get_consensus_cog(cog_list):\n",
    "    \"\"\"\n",
    "    Returns the most frequent COG character from cog_list,\n",
    "    or NaN if cog_list is empty.\n",
    "    \"\"\"\n",
    "    import numpy as np\n",
    "    import collections\n",
    "\n",
    "    if not cog_list:\n",
    "        return np.nan\n",
    "\n",
    "    # Cound occurences of each character\n",
    "    cog_count = collections.defaultdict(int)\n",
    "    for c in cog_list:\n",
    "        cog_count[c] += 1\n",
    "\n",
    "    # Pick the character with the highest count\n",
    "    consensus, max_value = None, -1\n",
    "    for char, count in cog_count.items():\n",
    "        if count > max_value:\n",
    "            consensus = char\n",
    "            max_value = count\n",
    "    return consensus\n"
   ]
  },
  {
   "cell_type": "code",
   "execution_count": null,
   "metadata": {},
   "outputs": [],
   "source": [
    "for row in ortho_df.itertuples():\n",
    "\tnew_row = pd.Series(index=[row.Index])\n",
    "\torthogroups_eggnog_df = pd.concat([orthogroups_eggnog_df, new_row], join='outer')\n",
    "\n",
    "\tfor sample in samples:\n",
    "\t\tcoginfo_df = coginfo_data[sample]\n",
    "\t\t# print(f'{sample}: {type(getattr(row, sample))}')\n",
    "\n",
    "\t\tloci = getattr(row, sample)\n",
    "\n",
    "\t\tcog_all = ''\n",
    "\t\tgene_all = []\n",
    "\n",
    "\t\tfor locus in str(loci).split(','):\n",
    "\t\t\tif locus == 'nan':\n",
    "\t\t\t\tcontinue\n",
    "\n",
    "\t\t\tlocus_num = locus.split('_')[1]\n",
    "\t\t\teggnog_locus = f'{sample}_{locus_num}'\n",
    "\t\t\ttry:\n",
    "\t\t\t\tcog = coginfo_df.at[eggnog_locus, 'COG_category']\n",
    "\t\t\t\tgene = coginfo_df.at[eggnog_locus, 'Preferred_name']\n",
    "\t\t\t\t# print(f'{sample}: {cog}, {gene}')\n",
    "\t\t\t\tcog_all += cog\n",
    "\t\t\t\tgene_all.append(gene)\n",
    "\t\t\texcept KeyError:\n",
    "\t\t\t\tprint(f'{eggnog_locus}: no hit in eggnog')\n",
    "\t\t\t\tpass\n",
    "\n",
    "\t\tconsensus_cog = get_consensus_cog(cog_all)\n",
    "\n",
    "\t\tif len(gene_all):\n",
    "\t\t\tgene_all = ', '.join(gene_all)\n",
    "\t\telse:\n",
    "\t\t\tgene_all = np.nan\n",
    "\n",
    "\t\torthogroups_eggnog_df.at[row.Index, f'{sample}_COG_consensus'] = consensus_cog\n",
    "\t\torthogroups_eggnog_df.at[row.Index, f'{sample}_COG'] = cog_all\n",
    "\t\torthogroups_eggnog_df.at[row.Index, f'{sample}_gene'] = gene_all\n",
    "\t\torthogroups_eggnog_df.at[row.Index, f'{sample}'] = loci\n",
    "\n",
    "orthogroups_eggnog_df = orthogroups_eggnog_df.drop(0, axis=1)\n",
    "\n",
    "orthogroups_eggnog_df"
   ]
  },
  {
   "cell_type": "code",
   "execution_count": null,
   "metadata": {},
   "outputs": [],
   "source": [
    "orthogroups_eggnog_df.info()"
   ]
  },
  {
   "cell_type": "markdown",
   "metadata": {},
   "source": [
    "#### Step4. Extract, fileter and sort COG information and determine consensus COGs\n",
    "Create binary dataframe `df_cog_binary`"
   ]
  },
  {
   "cell_type": "code",
   "execution_count": 114,
   "metadata": {},
   "outputs": [],
   "source": [
    "# 1) Create a copy\n",
    "cog_df = orthogroups_eggnog_df.copy()\n",
    "\n",
    "# 2) Summarize COG info across samples in a single column\n",
    "cog_df['COG_all'] = cog_df.filter(like='COG_consensus') \\\n",
    "\t\t\t\t\t\t.replace('-', np.nan).replace('=', np.nan) \\\n",
    "\t\t\t\t\t\t.fillna('').convert_dtypes().sum(axis=1)\n",
    "\n",
    "# 3) Determine each row's consunsus COG\n",
    "consensus_cog_list = list()\n",
    "for cog in cog_df['COG_all']:\n",
    "    consensus_cog = get_consensus_cog(cog)\n",
    "    consensus_cog_list.append(consensus_cog)\n",
    "\n",
    "cog_df['orthogroup_COG'] = consensus_cog_list"
   ]
  },
  {
   "cell_type": "code",
   "execution_count": null,
   "metadata": {},
   "outputs": [],
   "source": [
    "orthogroups_eggnog_columns = list(orthogroups_eggnog_df.columns)\n",
    "\n",
    "header = list()\n",
    "for item in orthogroups_eggnog_columns:\n",
    "\tsuffix = item.split('_')[-1]\n",
    "\tif suffix in ['COG', 'gene', 'consensus']:\n",
    "\t\tcontinue\n",
    "\theader.append(item)\n",
    "\n",
    "header.insert(0, 'orthogroup_COG')\n",
    "header.insert(1, 'COG_all')\n",
    "\n",
    "df = cog_df.reindex(columns=header)"
   ]
  },
  {
   "cell_type": "code",
   "execution_count": 117,
   "metadata": {},
   "outputs": [],
   "source": [
    "# 4) Drop rows where 'orthogroup_COG' is NaN\n",
    "df = df.dropna(subset=['orthogroup_COG'])"
   ]
  },
  {
   "cell_type": "code",
   "execution_count": null,
   "metadata": {},
   "outputs": [],
   "source": [
    "unique_cogs = df['orthogroup_COG'].unique()\n",
    "print(sorted(unique_cogs))"
   ]
  },
  {
   "cell_type": "code",
   "execution_count": null,
   "metadata": {},
   "outputs": [],
   "source": [
    "# 5) Sort by COG order\n",
    "cog_order = ['L', 'K', 'J', 'O', 'G', 'F', 'E', 'I', 'H', 'P', 'C', 'Q', 'M', 'U', 'T', 'D', 'V', 'N']\n",
    "\n",
    "# Assuming 'orthogroup_COG' is the column you want to sort by\n",
    "df['orthogroup_COG'] = pd.Categorical(df['orthogroup_COG'], categories=cog_order, ordered=True)\n",
    "\n",
    "# Sort the DataFrame based on 'orthogroup_COG'\n",
    "df_sorted = df.sort_values('orthogroup_COG')\n",
    "df_sorted = df_sorted.dropna(subset=['orthogroup_COG'])"
   ]
  },
  {
   "cell_type": "code",
   "execution_count": null,
   "metadata": {},
   "outputs": [],
   "source": [
    "# 6) Create presence/absence (binary) table\n",
    "df_cog_binary = df_sorted.reindex(columns=sample_order)\n",
    "\n",
    "# Replace empty cells with 0 and non-empty cells with 1 for the entire DataFrame\n",
    "df_cog_binary = df_cog_binary.applymap(lambda x: 1 if pd.notna(x) and x != '' else 0)\n",
    "\n",
    "df_cog_binary['counts'] = df_cog_binary.sum(axis=1)\n",
    "\n",
    "df_cog_binary['orthogroup_COG'] = df_sorted['orthogroup_COG']\n",
    "\n",
    "# Convert 'orthogroup_COG' to a categorical type with the defined order\n",
    "df_cog_binary['orthogroup_COG'] = pd.Categorical(df_cog_binary['orthogroup_COG'], categories=cog_order, ordered=True)\n",
    "\n",
    "# Sort by 'orthogroup_COG' based on cog_order, then by 'counts' in descending order\n",
    "df_cog_binary = df_cog_binary.sort_values(by=['orthogroup_COG', 'counts'], ascending=[True, False])\n",
    "\n",
    "fig_columns = ['orthogroup_COG', 'counts'] + sample_order\n",
    "df_cog_binary = df_cog_binary.reindex(columns=fig_columns)"
   ]
  },
  {
   "cell_type": "code",
   "execution_count": 134,
   "metadata": {},
   "outputs": [],
   "source": [
    "output_path = os.path.join(output_dir + 'COG_binary.csv')\n",
    "df_cog_binary.to_csv(output_path, sep='\\t', index_label='Orthogroup')"
   ]
  },
  {
   "cell_type": "markdown",
   "metadata": {},
   "source": [
    "#### Step5. Visualize\n",
    "Generate a block plot for the presence/absence data"
   ]
  },
  {
   "cell_type": "code",
   "execution_count": null,
   "metadata": {},
   "outputs": [],
   "source": [
    "df_to_fig = df_cog_binary[sample_order]"
   ]
  },
  {
   "cell_type": "code",
   "execution_count": 136,
   "metadata": {},
   "outputs": [],
   "source": [
    "partition_colors = {\n",
    "    'L': '#1f77b4',  # Blue\n",
    "    'K': '#ff7f0e',  # Orange\n",
    "    'J': '#2ca02c',  # Green\n",
    "    'O': '#d62728',  # Red\n",
    "    'G': '#9467bd',  # Purple\n",
    "    'F': '#8c564b',  # Brown\n",
    "    'E': '#e377c2',  # Pink\n",
    "    'I': '#7f7f7f',  # Grey\n",
    "    'H': '#bcbd22',  # Olive\n",
    "    'P': '#17becf',  # Cyan\n",
    "    'C': '#FF7675',  # Lighter Red\n",
    "    'Q': '#F39C12',  # Lighter Orange\n",
    "    'M': '#2C3E50',  # Darker Gray\n",
    "    'U': '#FF1493',  # Deep Pink\n",
    "    'T': '#4682B4',  # Steel Blue\n",
    "    'D': '#FF6347',  # Tomato\n",
    "    'N': '#00FA9A',  # Medium Spring Green\n",
    "    'V': '#B22222',  # Fire Brick\n",
    "    # 'S': '#B22222',  # Fire Brick\n",
    "}"
   ]
  },
  {
   "cell_type": "code",
   "execution_count": 137,
   "metadata": {},
   "outputs": [],
   "source": [
    "cog_classification = {\n",
    "    'J': 'Translation, Ribosomal Structure and Biogenesis',\n",
    "    'A': 'RNA Processing and Modification',\n",
    "    'K': 'Transcription',\n",
    "    'L': 'Replication, Recombination and Repair',\n",
    "    'B': 'Chromatin Structure and Dynamics',\n",
    "    'D': 'Cell cycle control, Cell division, Chromosome partitioning',\n",
    "    'Y': 'Nuclear Structure',\n",
    "    'V': 'Defense mechanisms',\n",
    "    'T': 'Signal transduction mechanisms',\n",
    "    'M': 'Cell wall/membrane/envelope biogenesis',\n",
    "    'N': 'Cell motility',\n",
    "    'Z': 'Cytoskeleton',\n",
    "    'W': 'Extracellular Structures',\n",
    "    'U': 'Intracellular trafficking, Secretion, anc Vesicular transport',\n",
    "    'O': 'Post-translational modification, Protein Turnover, Chaperones',\n",
    "    'X': 'Mobilome: prophages, transposons',\n",
    "    'C': 'Energy production and conversion',\n",
    "    'G': 'Carbonhydrate transport and metabolism',\n",
    "    'E': 'Aminoacid transport and metabolism',\n",
    "    'F': 'Nucleotide transport and metabolism',\n",
    "    'H': 'Coenzyme transport and metabolism',\n",
    "    'I': 'Lipid transport and metabolism',\n",
    "    'P': 'Inorganic ion transport and metabolism',\n",
    "    'Q': 'Secondary metabolites biosynthesis, transport and catabolism',\n",
    "    'R': 'General function prediction only',\n",
    "    'S': 'Function unknown'\n",
    "}"
   ]
  },
  {
   "cell_type": "code",
   "execution_count": null,
   "metadata": {},
   "outputs": [],
   "source": [
    "for cog in cog_order:\n",
    "\tprint(f'{cog}: {cog_classification[cog]}, {partition_colors[cog]}')"
   ]
  },
  {
   "cell_type": "code",
   "execution_count": null,
   "metadata": {},
   "outputs": [],
   "source": [
    "# Determine which row indices correspond to each COG partition\n",
    "partitions = {}\n",
    "for cog in cog_order:\n",
    "\tpartitions[cog] = df_cog_binary.index[df_cog_binary['orthogroup_COG'] == cog].tolist()\n",
    "\n",
    "print(partitions['C'])"
   ]
  },
  {
   "cell_type": "code",
   "execution_count": null,
   "metadata": {},
   "outputs": [],
   "source": [
    "# Create figure and axis without boundary and axis\n",
    "fig, ax = plt.subplots(frameon=False)\n",
    "\n",
    "# Determine cell size and padding for squares\n",
    "cell_size = 1\n",
    "padding = 0.1\n",
    "border_thickness = 0.01  # Thickness of the cell boundaries\n",
    "\n",
    "# Loop through each cell and plot squares with different colors for different partitions\n",
    "for i in range(df_to_fig.shape[0]):  # Iterate over row positions\n",
    "    for j in range(df_to_fig.shape[1]):  # Iterate over columns\n",
    "        # Get the original index of the row using iloc\n",
    "        original_index = df_to_fig.index[i]\n",
    "        current_value = df_to_fig.iloc[i, j]\n",
    "\n",
    "        facecolor = '#D3D3D3' # Default color: grey\n",
    "\n",
    "        for partition, row_numbers in partitions.items():\n",
    "            # Check if the original index is in the row numbers list for the partition\n",
    "            if original_index in row_numbers and current_value == 1:\n",
    "                facecolor = partition_colors.get(partition, '#D3D3D3')\n",
    "                break\n",
    "\n",
    "        # Plot a square in lighter grey if no partition match is found\n",
    "        square = patches.Rectangle(\n",
    "            (j + padding, df_to_fig.shape[0] - i - 1 + padding),\n",
    "            cell_size - 2 * padding,\n",
    "            cell_size - 2 * padding,\n",
    "            linewidth=border_thickness,\n",
    "            edgecolor='white',\n",
    "            facecolor=facecolor\n",
    "        )\n",
    "        ax.add_patch(square)\n",
    "\n",
    "# Set x and y axis limits based on the number of rows and columns\n",
    "ax.set_xlim(0, df_to_fig.shape[1])\n",
    "ax.set_ylim(0, df_to_fig.shape[0])\n",
    "\n",
    "ax.axis('off')\n",
    "\n",
    "# Save the plot as a SVG file\n",
    "output_path = os.path.join(output_dir + 'COG_visualization.svg')\n",
    "plt.savefig(output_path)"
   ]
  },
  {
   "cell_type": "code",
   "execution_count": null,
   "metadata": {},
   "outputs": [],
   "source": []
  }
 ],
 "metadata": {
  "kernelspec": {
   "display_name": "notebook",
   "language": "python",
   "name": "python3"
  },
  "language_info": {
   "codemirror_mode": {
    "name": "ipython",
    "version": 3
   },
   "file_extension": ".py",
   "mimetype": "text/x-python",
   "name": "python",
   "nbconvert_exporter": "python",
   "pygments_lexer": "ipython3",
   "version": "3.12.7"
  }
 },
 "nbformat": 4,
 "nbformat_minor": 2
}
