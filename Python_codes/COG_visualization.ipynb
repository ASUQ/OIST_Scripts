{
 "cells": [
  {
   "cell_type": "markdown",
   "metadata": {},
   "source": [
    "This script is for visualizing the COG content of prokaryote genomes"
   ]
  },
  {
   "cell_type": "code",
   "execution_count": 101,
   "metadata": {},
   "outputs": [],
   "source": [
    "\"\"\"\n",
    "Input File\n",
    "- Orthogroups\n",
    "- eggnog output for each genome\n",
    "\n",
    "Output File\n",
    "- COG Figure\n",
    "\n",
    "Required packages\n",
    "- numpy\n",
    "- pandas\n",
    "- matplotlib\n",
    "\"\"\"\n",
    "None"
   ]
  },
  {
   "cell_type": "code",
   "execution_count": 102,
   "metadata": {},
   "outputs": [],
   "source": [
    "## Input Paths\n",
    "# Output file from OrthoFinder\n",
    "orthogroups = ''\n",
    "orthosingle = ''\n",
    "\n",
    "# Direcotory that contains all eggnog result of each sample\n",
    "eggnog_dir = ''"
   ]
  },
  {
   "cell_type": "markdown",
   "metadata": {},
   "source": [
    "---"
   ]
  },
  {
   "cell_type": "code",
   "execution_count": 103,
   "metadata": {},
   "outputs": [],
   "source": [
    "## Library import\n",
    "import collections\n",
    "import glob\n",
    "import itertools\n",
    "import numpy as np\n",
    "import os\n",
    "import pandas as pd\n",
    "import pprint\n",
    "import re\n",
    "import matplotlib.pyplot as plt\n",
    "import matplotlib.patches as patches\n",
    "# import tqdm"
   ]
  },
  {
   "cell_type": "code",
   "execution_count": null,
   "metadata": {},
   "outputs": [],
   "source": [
    "## Search eggnog files in the eggnog_dir\n",
    "eggnog_output = glob.glob(f'{eggnog_dir}/*/*.annotations.tsv')\n",
    "pprint.pprint(eggnog_output)"
   ]
  },
  {
   "cell_type": "code",
   "execution_count": null,
   "metadata": {},
   "outputs": [],
   "source": [
    "'''\n",
    "Extract the COG info from eggnog output\n",
    "\n",
    "For each eggnog output file\n",
    "\t1. Extracted annotation info (query name, COG, descritpion, gene name)\n",
    "\t2. Save to csv file \"{sample name}_COGinfo.csv\"\n",
    "'''\n",
    "\n",
    "for file in eggnog_output:\n",
    "\tsample_name = os.path.basename(os.path.dirname(file))\n",
    "\n",
    "\tdf = pd.read_csv(file, sep='\\t')\n",
    "\n",
    "\toutput_df = df[['query', 'COG_category', 'Description', 'Preferred_name']]\n",
    "\toutput_df['GeneCode'] = df['query'].str.replace('LOCUS', sample_name)\n",
    "\toutput_df = output_df[['GeneCode', 'COG_category', 'Preferred_name', 'Description']]\n",
    "\n",
    "\toutput_path = os.path.join(os.path.dirname(file), sample_name + '_COGinfo.csv')\n",
    "\toutput_df.to_csv(output_path, index=False)"
   ]
  },
  {
   "cell_type": "code",
   "execution_count": null,
   "metadata": {},
   "outputs": [],
   "source": [
    "## Import orthogroup and orthosingle data -> concatenate\n",
    "orthogroups_df = pd.read_csv(orthogroups, sep='\\t', index_col='Orthogroup')\n",
    "\n",
    "orthosingle_df = pd.read_csv(orthosingle, sep='\\t', index_col='Orthogroup')\n",
    "\n",
    "ortho_df = pd.concat([orthogroups_df, orthosingle_df])\n",
    "\n",
    "ortho_df"
   ]
  },
  {
   "cell_type": "code",
   "execution_count": 107,
   "metadata": {},
   "outputs": [],
   "source": [
    "\"\"\"\n",
    "1. Get the consensus of COG of each orthogroup based on each eggnog result\n",
    "2. Sort the orthogroups based on their COG\n",
    "3. Convert into binary data\n",
    "4. Visualize\n",
    "\"\"\"\n",
    "None"
   ]
  },
  {
   "cell_type": "code",
   "execution_count": null,
   "metadata": {},
   "outputs": [],
   "source": [
    "## Get the path of coginfo file (generated above) of each sample\n",
    "eggnog_coginfo = glob.glob(f'{eggnog_dir}/*/*_COGinfo.csv')\n",
    "sample_coginfo = dict()\n",
    "\n",
    "for file in eggnog_coginfo:\n",
    "\tsample_name = os.path.basename(os.path.dirname(file))\n",
    "\tsample_coginfo[sample_name] = file\n",
    "\n",
    "pprint.pprint(sample_coginfo)"
   ]
  },
  {
   "cell_type": "code",
   "execution_count": null,
   "metadata": {},
   "outputs": [],
   "source": [
    "# Create a dataframe to save the data\n",
    "samples = list(ortho_df.columns)\n",
    "topic = ['COG_consensus', 'COG', 'gene', '']\n",
    "new_header = []\n",
    "for head, suffix in itertools.product(samples, topic):\n",
    "\tif suffix == '':\n",
    "\t\tnew_header.append(head)\n",
    "\telse:\n",
    "\t\tnew_header.append(head + '_' + suffix)\n",
    "orthogroups_eggnog_df = pd.DataFrame(columns=new_header, dtype=str)\n",
    "orthogroups_eggnog_df.index.name = 'Orthogroup'\n",
    "orthogroups_eggnog_df.head()"
   ]
  },
  {
   "cell_type": "code",
   "execution_count": null,
   "metadata": {},
   "outputs": [],
   "source": [
    "for row in ortho_df.itertuples():\n",
    "\tnew_row = pd.Series(index=[row.Index])\n",
    "\torthogroups_eggnog_df = pd.concat([orthogroups_eggnog_df, new_row], join='outer')\n",
    "\n",
    "\tfor sample in samples:\n",
    "\t\tcoginfo = sample_coginfo[sample]\n",
    "\t\tcoginfo_df = pd.read_csv(coginfo, index_col='GeneCode')\n",
    "\t\t# print(f'{sample}: {type(getattr(row, sample))}')\n",
    "\n",
    "\t\tloci = getattr(row, sample)\n",
    "\n",
    "\t\tcog_all = []\n",
    "\t\tgene_all = []\n",
    "\n",
    "\t\tfor locus in str(loci).split(','):\n",
    "\t\t\tif locus == 'nan':\n",
    "\t\t\t\tcontinue\n",
    "\n",
    "\t\t\tlocus_num = locus.split('_')[1]\n",
    "\t\t\teggnog_locus = f'{sample}_{locus_num}'\n",
    "\t\t\ttry:\n",
    "\t\t\t\tcog = coginfo_df.at[eggnog_locus, 'COG_category']\n",
    "\t\t\t\tgene = coginfo_df.at[eggnog_locus, 'Preferred_name']\n",
    "\t\t\t\t# print(f'{sample}: {cog}, {gene}')\n",
    "\t\t\t\tcog_all += cog\n",
    "\t\t\t\tgene_all.append(gene)\n",
    "\t\t\texcept KeyError:\n",
    "\t\t\t\t# print(f'{eggnog_locus}: no hit in eggnog')\n",
    "\t\t\t\tpass\n",
    "\n",
    "\t\tcog_count = collections.defaultdict(int)\n",
    "\t\tfor cog in cog_all:\n",
    "\t\t\tcog_count[cog] += 1\n",
    "\n",
    "\t\tconsensus_cog = ''\n",
    "\t\tmax_value = -1\n",
    "\t\tfor key, value in cog_count.items():\n",
    "\t\t\tif value > max_value:\n",
    "\t\t\t\tconsensus_cog = key\n",
    "\t\t\t\tmax_value = value\n",
    "\n",
    "\t\tif len(cog_all):\n",
    "\t\t\tconsensus_cog = max(cog_all)\n",
    "\t\t\tcog_all = ''.join(cog_all)\n",
    "\t\telse:\n",
    "\t\t\tcog_all = np.nan\n",
    "\n",
    "\t\tif len(gene_all):\n",
    "\t\t\tgene_all = ', '.join(gene_all)\n",
    "\t\telse:\n",
    "\t\t\tgene_all = np.nan\n",
    "\n",
    "\t\torthogroups_eggnog_df.at[row.Index, f'{sample}_COG_consensus'] = consensus_cog\n",
    "\t\torthogroups_eggnog_df.at[row.Index, f'{sample}_COG'] = cog_all\n",
    "\t\torthogroups_eggnog_df.at[row.Index, f'{sample}_gene'] = gene_all\n",
    "\t\torthogroups_eggnog_df.at[row.Index, f'{sample}'] = loci\n",
    "\n",
    "orthogroups_eggnog_df = orthogroups_eggnog_df.drop(0, axis=1)\n",
    "\n",
    "orthogroups_eggnog_df"
   ]
  },
  {
   "cell_type": "code",
   "execution_count": null,
   "metadata": {},
   "outputs": [],
   "source": [
    "orthogroups_eggnog_df.info()"
   ]
  },
  {
   "cell_type": "code",
   "execution_count": 114,
   "metadata": {},
   "outputs": [],
   "source": [
    "cog_df = orthogroups_eggnog_df.copy()\n",
    "\n",
    "cog_df['COG_all'] = cog_df.filter(like='COG_consensus').replace('-', np.nan).replace('=', np.nan).fillna('').convert_dtypes().sum(axis=1)\n",
    "\n",
    "consensus_cog_list = list()\n",
    "for cog in cog_df['COG_all']:\n",
    "\tcog_count = collections.defaultdict(int)\n",
    "\tfor char in cog:\n",
    "\t\tcog_count[char] += 1\n",
    "\n",
    "\tconsensus_cog = ''\n",
    "\tmax_value = -1\n",
    "\tfor key, value in cog_count.items():\n",
    "\t\tif value > max_value:\n",
    "\t\t\tconsensus_cog = key\n",
    "\t\t\tmax_value = value\n",
    "\tif consensus_cog == '':\n",
    "\t\tconsensus_cog = np.nan\n",
    "\tconsensus_cog_list.append(consensus_cog)\n",
    "\n",
    "cog_df['orthogroup_COG'] = consensus_cog_list"
   ]
  },
  {
   "cell_type": "code",
   "execution_count": null,
   "metadata": {},
   "outputs": [],
   "source": [
    "orthogroups_eggnog_columns = list(orthogroups_eggnog_df.columns)\n",
    "\n",
    "header = list()\n",
    "for item in orthogroups_eggnog_columns:\n",
    "\tsuffix = item.split('_')[-1]\n",
    "\tif suffix in ['COG', 'gene', 'consensus']:\n",
    "\t\tcontinue\n",
    "\theader.append(item)\n",
    "\n",
    "header.insert(0, 'orthogroup_COG')\n",
    "header.insert(1, 'COG_all')\n",
    "\n",
    "df = cog_df.reindex(columns=header)\n",
    "df.head()"
   ]
  },
  {
   "cell_type": "code",
   "execution_count": null,
   "metadata": {},
   "outputs": [],
   "source": [
    "df.info()"
   ]
  },
  {
   "cell_type": "code",
   "execution_count": 117,
   "metadata": {},
   "outputs": [],
   "source": [
    "df = df.dropna(subset=['orthogroup_COG'])"
   ]
  },
  {
   "cell_type": "code",
   "execution_count": null,
   "metadata": {},
   "outputs": [],
   "source": [
    "unique_cogs = df['orthogroup_COG'].unique()\n",
    "print(sorted(unique_cogs))"
   ]
  },
  {
   "cell_type": "code",
   "execution_count": null,
   "metadata": {},
   "outputs": [],
   "source": [
    "cog_order = ['L', 'K', 'J', 'O', 'G', 'F', 'E', 'I', 'H', 'P', 'C', 'Q', 'M', 'U', 'T', 'D', 'V', 'N']\n",
    "\n",
    "# Assuming 'orthogroup_COG' is the column you want to sort by\n",
    "df['orthogroup_COG'] = pd.Categorical(df['orthogroup_COG'], categories=cog_order, ordered=True)\n",
    "\n",
    "# Sort the DataFrame based on 'orthogroup_COG'\n",
    "df_sorted = df.sort_values('orthogroup_COG')\n",
    "df_sorted = df_sorted.dropna(subset=['orthogroup_COG'])\n",
    "df_sorted.info()"
   ]
  },
  {
   "cell_type": "code",
   "execution_count": null,
   "metadata": {},
   "outputs": [],
   "source": [
    "df_sorted.head()"
   ]
  },
  {
   "cell_type": "code",
   "execution_count": 121,
   "metadata": {},
   "outputs": [],
   "source": [
    "sample_order = ['B27', 'Pal2', 'Q6', 'S_platyhelix', 'S_citri', 'S_eriocheiris', 'S_apis', 'S_culicicola', 'S_glodiatoris', 'P_umbrosa_mycoplasma', 'Thalassoplasma', 'Oceanoplasma', 'Spiroplasma_holothuricola']"
   ]
  },
  {
   "cell_type": "code",
   "execution_count": null,
   "metadata": {},
   "outputs": [],
   "source": [
    "df_cog_binary = df_sorted.reindex(columns=sample_order)\n",
    "\n",
    "# Replace empty cells with 0 and non-empty cells with 1 for the entire DataFrame\n",
    "df_cog_binary = df_cog_binary.applymap(lambda x: 1 if pd.notna(x) and x != '' else 0)\n",
    "\n",
    "df_cog_binary['counts'] = df_cog_binary.sum(axis=1)\n",
    "\n",
    "df_cog_binary['orthogroup_COG'] = df_sorted['orthogroup_COG']\n",
    "\n",
    "# Convert 'orthogroup_COG' to a categorical type with the defined order\n",
    "df_cog_binary['orthogroup_COG'] = pd.Categorical(df_cog_binary['orthogroup_COG'], categories=cog_order, ordered=True)\n",
    "\n",
    "# Sort by 'orthogroup_COG' based on cog_order, then by 'counts' in descending order\n",
    "df_cog_binary = df_cog_binary.sort_values(by=['orthogroup_COG', 'counts'], ascending=[True, False])\n",
    "\n",
    "fig_columns = ['orthogroup_COG', 'counts'] + sample_order\n",
    "df_cog_binary = df_cog_binary.reindex(columns=fig_columns)\n",
    "df_cog_binary.info()"
   ]
  },
  {
   "cell_type": "code",
   "execution_count": null,
   "metadata": {},
   "outputs": [],
   "source": [
    "df_cog_binary.head()"
   ]
  },
  {
   "cell_type": "code",
   "execution_count": 134,
   "metadata": {},
   "outputs": [],
   "source": [
    "output_path = ''\n",
    "df_cog_binary.to_csv(output_path, sep='\\t', index_label='Orthogroup')"
   ]
  },
  {
   "cell_type": "markdown",
   "metadata": {},
   "source": [
    "---"
   ]
  },
  {
   "cell_type": "code",
   "execution_count": null,
   "metadata": {},
   "outputs": [],
   "source": [
    "df_to_fig = df_cog_binary[sample_order]\n",
    "df_to_fig"
   ]
  },
  {
   "cell_type": "code",
   "execution_count": 136,
   "metadata": {},
   "outputs": [],
   "source": [
    "partition_colors = {\n",
    "    'L': '#1f77b4',  # Blue\n",
    "    'K': '#ff7f0e',  # Orange\n",
    "    'J': '#2ca02c',  # Green\n",
    "    'O': '#d62728',  # Red\n",
    "    'G': '#9467bd',  # Purple\n",
    "    'F': '#8c564b',  # Brown\n",
    "    'E': '#e377c2',  # Pink\n",
    "    'I': '#7f7f7f',  # Grey\n",
    "    'H': '#bcbd22',  # Olive\n",
    "    'P': '#17becf',  # Cyan\n",
    "    'C': '#FF7675',  # Lighter Red\n",
    "    'Q': '#F39C12',  # Lighter Orange\n",
    "    'M': '#2C3E50',  # Darker Gray\n",
    "    'U': '#FF1493',  # Deep Pink\n",
    "    'T': '#4682B4',  # Steel Blue\n",
    "    'D': '#FF6347',  # Tomato\n",
    "    'N': '#00FA9A',  # Medium Spring Green\n",
    "    'V': '#B22222',  # Fire Brick\n",
    "    # 'S': '#B22222',  # Fire Brick\n",
    "}"
   ]
  },
  {
   "cell_type": "code",
   "execution_count": 137,
   "metadata": {},
   "outputs": [],
   "source": [
    "cog_classification = {\n",
    "    'J': 'Translation, Ribosomal Structure and Biogenesis',\n",
    "    'A': 'RNA Processing and Modification',\n",
    "    'K': 'Transcription',\n",
    "    'L': 'Replication, Recombination and Repair',\n",
    "    'B': 'Chromatin Structure and Dynamics',\n",
    "    'D': 'Cell cycle control, Cell division, Chromosome partitioning',\n",
    "    'Y': 'Nuclear Structure',\n",
    "    'V': 'Defense mechanisms',\n",
    "    'T': 'Signal transduction mechanisms',\n",
    "    'M': 'Cell wall/membrane/envelope biogenesis',\n",
    "    'N': 'Cell motility',\n",
    "    'Z': 'Cytoskeleton',\n",
    "    'W': 'Extracellular Structures',\n",
    "    'U': 'Intracellular trafficking, Secretion, anc Vesicular transport',\n",
    "    'O': 'Post-translational modification, Protein Turnover, Chaperones',\n",
    "    'X': 'Mobilome: prophages, transposons',\n",
    "    'C': 'Energy production and conversion',\n",
    "    'G': 'Carbonhydrate transport and metabolism',\n",
    "    'E': 'Aminoacid transport and metabolism',\n",
    "    'F': 'Nucleotide transport and metabolism',\n",
    "    'H': 'Coenzyme transport and metabolism',\n",
    "    'I': 'Lipid transport and metabolism',\n",
    "    'P': 'Inorganic ion transport and metabolism',\n",
    "    'Q': 'Secondary metabolites biosynthesis, transport and catabolism',\n",
    "    'R': 'General function prediction only',\n",
    "    'S': 'Function unknown'\n",
    "}"
   ]
  },
  {
   "cell_type": "code",
   "execution_count": null,
   "metadata": {},
   "outputs": [],
   "source": [
    "for cog in cog_order:\n",
    "\tprint(f'{cog}: {cog_classification[cog]}, {partition_colors[cog]}')"
   ]
  },
  {
   "cell_type": "code",
   "execution_count": null,
   "metadata": {},
   "outputs": [],
   "source": [
    "partitions = {}\n",
    "for cog in cog_order:\n",
    "\tpartitions[cog] = df_cog_binary.index[df_cog_binary['orthogroup_COG'] == cog].tolist()\n",
    "\n",
    "print(partitions['C'])"
   ]
  },
  {
   "cell_type": "code",
   "execution_count": null,
   "metadata": {},
   "outputs": [],
   "source": [
    "df_to_fig"
   ]
  },
  {
   "cell_type": "code",
   "execution_count": null,
   "metadata": {},
   "outputs": [],
   "source": [
    "# Create figure and axis without boundary and axis\n",
    "fig, ax = plt.subplots(frameon=False)\n",
    "\n",
    "# Determine cell size and padding for squares\n",
    "cell_size = 1\n",
    "padding = 0.1\n",
    "border_thickness = 0.01  # Thickness of the cell boundaries\n",
    "\n",
    "# Define spacing between partitions\n",
    "partition_spacing = 5  # Number of empty rows between partitions\n",
    "\n",
    "# Loop through each cell and plot squares with different colors for different partitions\n",
    "for i in range(df_to_fig.shape[0]):  # Iterate over row positions\n",
    "    for j in range(df_to_fig.shape[1]):  # Iterate over columns\n",
    "        # Get the original index of the row using iloc\n",
    "        original_index = df_to_fig.index[i]\n",
    "        for partition, row_numbers in partitions.items():\n",
    "            # Check if the original index is in the row numbers list for the partition\n",
    "            if original_index in row_numbers and df_to_fig.iloc[i, j] == 1:\n",
    "                facecolor = partition_colors[partition]\n",
    "                square = patches.Rectangle(\n",
    "                    (j + padding, df_to_fig.shape[0] - i - 1 + padding),\n",
    "                    cell_size - 2 * padding,\n",
    "                    cell_size - 2 * padding,\n",
    "                    linewidth=border_thickness,\n",
    "                    edgecolor='white',\n",
    "                    facecolor=facecolor\n",
    "                )\n",
    "                ax.add_patch(square)\n",
    "                break\n",
    "        else:\n",
    "            # Plot a square in lighter grey if no partition match is found\n",
    "            square = patches.Rectangle(\n",
    "                (j + padding, df_to_fig.shape[0] - i - 1 + padding),\n",
    "                cell_size - 2 * padding,\n",
    "                cell_size - 2 * padding,\n",
    "                linewidth=border_thickness,\n",
    "                edgecolor='white',\n",
    "                facecolor='#D3D3D3'\n",
    "            )\n",
    "            ax.add_patch(square)\n",
    "\n",
    "# Set x and y axis limits based on the number of rows and columns\n",
    "ax.set_xlim(0, df_to_fig.shape[1])\n",
    "ax.set_ylim(0, df_to_fig.shape[0])\n",
    "\n",
    "ax.axis('off')\n",
    "\n",
    "# Save the plot as a SVG file\n",
    "output_path = ''\n",
    "plt.savefig(output_path)"
   ]
  },
  {
   "cell_type": "code",
   "execution_count": null,
   "metadata": {},
   "outputs": [],
   "source": []
  }
 ],
 "metadata": {
  "kernelspec": {
   "display_name": "notebook",
   "language": "python",
   "name": "python3"
  },
  "language_info": {
   "codemirror_mode": {
    "name": "ipython",
    "version": 3
   },
   "file_extension": ".py",
   "mimetype": "text/x-python",
   "name": "python",
   "nbconvert_exporter": "python",
   "pygments_lexer": "ipython3",
   "version": "3.12.7"
  }
 },
 "nbformat": 4,
 "nbformat_minor": 2
}
